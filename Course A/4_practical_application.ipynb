{
 "cells": [
  {
   "cell_type": "markdown",
   "id": "db93f242",
   "metadata": {},
   "source": [
    "# Working directly in Snowflake\n",
    "\n",
    "Until now, you have been experimenting and learning the basics from simple and locally created tables. This was indeed enough to get you started, but let's be honest: Not the fun you expected. From now on, you will be working directly from our data warehouse, ```Snowflake```. But, this also means that you will need to think about what you query and more importantly, how you do it. Indeed, some of the tables are massive as they contain every single event a player generated through their actions in the game. This means that queries can day days to execute, and if they do, it was probably not what you were looking for. \n",
    "\n",
    "In this session, you will be interacting directly with a set of tables in Snowflake (specially created for this course to limit potential errors and to speed up getting results). Below is a list of exercices, but let's start by a quick intro to ```Snowflake```. \n"
   ]
  },
  {
   "cell_type": "markdown",
   "id": "fc69174d",
   "metadata": {},
   "source": [
    "## Snowflake\n",
    "\n",
    "Snowflake is a cloud-based data platform designed to handle large-scale data storage, processing, and analytics. It provides a fully managed, elastic architecture that allows users to easily scale their data storage and compute resources independently. Snowflake simplifies data management by integrating various data sources, offering real-time access to data through SQL queries, and enabling seamless collaboration between teams. It supports both structured and semi-structured data, making it a flexible solution for diverse data workloads. With its focus on performance, security, and ease of use, Snowflake helps organizations streamline their data operations and gain actionable insights.\n",
    "\n",
    "Snowflake is a powerful platform that simplifies SQL querying and allows users to run Python scripts and notebooks for data analysis. For those working primarily with SQL, Snowflake provides a fully managed environment where you can easily run complex queries on large datasets, leveraging its fast processing power and scalability. The platform supports standard SQL, so users can perform data manipulation, aggregation, and analysis with familiar commands. Additionally, Snowflake integrates well with Python, enabling you to use notebooks or scripts for more advanced data operations, machine learning, and automation. This makes it an ideal tool for users focused on querying and analyzing data, without needing to worry about infrastructure management."
   ]
  },
  {
   "cell_type": "markdown",
   "id": "7803d61f",
   "metadata": {},
   "source": [
    "## ```PDX_EXPERIMENT.UR_DS_COURSE_MATERIAL.*```\n",
    "\n",
    "This database is specifically designed and defined for the sake of this course. To simplify things, we have restricted the data to a single game, for four of these tables, for the period ```2025-05-31``` to ```2025-06-27``` (believe me, there is more than enough data). It contains the following tables:\n",
    "\n",
    "* ```DAU_KPI_GAMES``` (ALL GAMES)\n",
    "* ```VICTORIA3_EVENTS```\n",
    "* ```VICTORIA3_PLAYTIME```\n",
    "* ```VICTORIA3_GAME_RULES```\n",
    "* ```VICTORIA3_VERIFICATION```\n"
   ]
  },
  {
   "cell_type": "markdown",
   "id": "96b01990",
   "metadata": {},
   "source": [
    "### Exercise 1: Playtime\n",
    "\n",
    "* How many distinct players played during the period ```2025-05-31``` -- ```2025-06-27```?\n",
    "* How many players have a playtime larger than 2000 hours?\n",
    "* What is the total number of played hours for the period ```2025-05-31``` -- ```2025-06-27```?\n",
    "* What is the maximum number of hours that a player has played?\n",
    "* What is the average number of hours played during the period ```2025-06-01``` -- ```2025-06-15```\n"
   ]
  },
  {
   "cell_type": "markdown",
   "id": "e3629bb0",
   "metadata": {},
   "source": [
    "### Exercise 2: Playtime by location\n",
    "\n",
    "In some of the exercises below, the tables  ```VICTORIA3_EVENTS``` and ```VICTORIA3_PLAYTIME``` need to be use. ```VICTORIA3_PLAYTIME``` only contains the ```USER_ID``` and the number of hours played between ```2025-05-31``` and ```2025-06-27```, including those dates.\n",
    "\n",
    "* How many distinct players can you count in all countries where Victoria 3 was played during the period?\n",
    "* How many hours did players play in different countries? Hint: You need to use both tables. \n",
    "* **Challenging question**: The previous question gave you the number of players in each country. Now, add a column giving the percentage these players represent of all players.\n",
    "* What was the average number of hours played in each country?"
   ]
  },
  {
   "cell_type": "markdown",
   "id": "03a78388",
   "metadata": {},
   "source": []
  }
 ],
 "metadata": {
  "language_info": {
   "name": "python"
  }
 },
 "nbformat": 4,
 "nbformat_minor": 5
}
