{
 "cells": [
  {
   "cell_type": "markdown",
   "id": "802e8bda",
   "metadata": {},
   "source": [
    "# SQL: Aggregating and filtering"
   ]
  },
  {
   "cell_type": "markdown",
   "id": "58590305",
   "metadata": {},
   "source": [
    "## Session 2 Overview\n",
    "In this session, we expand your SQL skills by introducing aggregation functions and grouping techniques. You will learn how to count records, compute averages, group data, and filter aggregated results using `HAVING`. These are essential tools for summarizing large datasets in analytics.\n",
    "\n",
    "\n",
    "## Quick Recap: `SELECT` and `WHERE`\n",
    "```sql\n",
    "SELECT column1, column2 FROM table_name WHERE condition;\n",
    "```\n",
    "- `SELECT` chooses columns\n",
    "- `WHERE` filters rows based on conditions\n",
    "\n",
    "```python\n"
   ]
  },
  {
   "cell_type": "code",
   "execution_count": 2,
   "id": "483a0b3a",
   "metadata": {},
   "outputs": [],
   "source": [
    "import sqlite3\n",
    "import pandas as pd\n",
    "\n",
    "data = [\n",
    "    (1, 'Game A', 'Loved it!', 5, '2023-01-01', 'NA', 'PC', 'english'),\n",
    "    (2, 'Game B', 'Buggy', 2, '2023-01-15', 'EU', 'PC', 'german'),\n",
    "    (3, 'Game A', 'Amazing', 5, '2023-02-01', 'AS', 'Console', 'japanese'),\n",
    "]\n",
    "\n",
    "conn = sqlite3.connect(':memory:')\n",
    "cursor = conn.cursor()\n",
    "cursor.execute('''\n",
    "    CREATE TABLE reviews (\n",
    "        review_id INTEGER,\n",
    "        game_name TEXT,\n",
    "        review_text TEXT,\n",
    "        rating INTEGER,\n",
    "        review_date TEXT,\n",
    "        region TEXT,\n",
    "        platform TEXT,\n",
    "        language TEXT\n",
    "    )\n",
    "''')\n",
    "cursor.executemany('INSERT INTO reviews VALUES (?, ?, ?, ?, ?, ?, ?, ?)', data)\n",
    "conn.commit()\n"
   ]
  },
  {
   "cell_type": "markdown",
   "id": "356dfe33",
   "metadata": {},
   "source": [
    "## Aggregation Functions: `COUNT`, `AVG`, `MIN`, `MAX`, `SUM`\n",
    "\n",
    "These functions summarize data:\n",
    "- `COUNT(*)`: Number of records\n",
    "- `AVG(column)`: Average value\n",
    "- `MIN(column)`, `MAX(column)`: Smallest/largest values\n",
    "- `SUM(Column)`: Sum of values in a numeric column\n",
    "\n",
    "### Example: Average Rating by Game\n",
    "```sql\n",
    "SELECT game_name, AVG(rating) AS avg_rating\n",
    "FROM reviews\n",
    "GROUP BY game_name;\n",
    "```\n",
    "\n"
   ]
  },
  {
   "cell_type": "code",
   "execution_count": 4,
   "id": "8bac7258",
   "metadata": {},
   "outputs": [],
   "source": [
    "df = pd.read_sql(\"\"\"\n",
    "    SELECT game_name, AVG(rating) AS avg_rating\n",
    "    FROM reviews\n",
    "    GROUP BY game_name;\n",
    "\"\"\", conn)"
   ]
  },
  {
   "cell_type": "markdown",
   "id": "3bcb6fc4",
   "metadata": {},
   "source": [
    "## Using `GROUP BY`\n",
    "`GROUP BY` segments your data for aggregation. Each group returns one row.\n",
    "\n",
    "### Example: Count of Reviews by Region\n",
    "```sql\n",
    "SELECT region, COUNT(*) AS review_count\n",
    "FROM reviews\n",
    "GROUP BY region;\n",
    "```\n",
    "\n"
   ]
  },
  {
   "cell_type": "code",
   "execution_count": 5,
   "id": "1bf04f42",
   "metadata": {},
   "outputs": [
    {
     "name": "stdout",
     "output_type": "stream",
     "text": [
      "  game_name  avg_rating\n",
      "0    Game A         5.0\n",
      "1    Game B         2.0\n"
     ]
    }
   ],
   "source": [
    "df = pd.read_sql_query(\"\"\"\n",
    "    SELECT game_name, AVG(rating) AS avg_rating\n",
    "    FROM reviews\n",
    "    GROUP BY game_name;\n",
    "\"\"\", conn)\n",
    "\n",
    "print(df)\n"
   ]
  },
  {
   "cell_type": "markdown",
   "id": "e1ccf76d",
   "metadata": {},
   "source": [
    "\n",
    "You can group by multiple columns:\n",
    "```sql\n",
    "SELECT region, platform, COUNT(*) FROM reviews GROUP BY region, platform;\n",
    "```\n",
    "\n",
    "\n",
    "## Filtering Aggregates: `HAVING`\n",
    "`HAVING` filters groups after aggregation (like `WHERE`, but for groups).\n",
    "\n",
    "### Example: Only show games with average rating above 4\n",
    "```sql\n",
    "SELECT game_name, AVG(rating) AS avg_rating\n",
    "FROM reviews\n",
    "GROUP BY game_name\n",
    "HAVING avg_rating > 4;\n",
    "```\n",
    "\n"
   ]
  },
  {
   "cell_type": "code",
   "execution_count": 6,
   "id": "202d5ecc",
   "metadata": {},
   "outputs": [
    {
     "name": "stdout",
     "output_type": "stream",
     "text": [
      "  game_name  avg_rating\n",
      "0    Game A         5.0\n"
     ]
    }
   ],
   "source": [
    "\n",
    "df = pd.read_sql_query(\"\"\"\n",
    "SELECT game_name, AVG(rating) AS avg_rating\n",
    "FROM reviews\n",
    "GROUP BY game_name\n",
    "HAVING avg_rating > 4;\n",
    "\"\"\", conn)\n",
    "\n",
    "print(df)\n",
    "\n"
   ]
  },
  {
   "cell_type": "markdown",
   "id": "4bc87ca3",
   "metadata": {},
   "source": [
    "\n",
    "## Mini-Challenge (10 min)\n",
    "**Question**: What games receive the highest average rating per region?\n",
    "\n",
    "### Sample Solution:\n",
    "```sql\n",
    "SELECT region, game_name, AVG(rating) AS avg_rating\n",
    "FROM reviews\n",
    "GROUP BY region, game_name\n",
    "ORDER BY region, avg_rating DESC;\n",
    "```\n",
    "\n",
    "```python\n",
    "pd.read_sql_query(\"\"\"\n",
    "SELECT region, game_name, AVG(rating) AS avg_rating\n",
    "FROM reviews\n",
    "GROUP BY region, game_name\n",
    "ORDER BY region, avg_rating DESC;\n",
    "\"\"\", conn)\n",
    "```\n",
    "\n",
    "\n",
    "## Exercises on sample data \n",
    "1. Count the number of reviews per platform.\n",
    "2. Show the minimum and maximum ratings for each game.\n",
    "3. Get the average rating per language.\n",
    "4. Which games have an average rating of 4 or more on PC?\n",
    "\n"
   ]
  },
  {
   "cell_type": "markdown",
   "id": "f4a53d85",
   "metadata": {},
   "source": [
    "For the exercises below, you will need to log into your Snowflake account. We will, in Course B, learn how to do this directly from a Jupyter Notebook. "
   ]
  },
  {
   "cell_type": "markdown",
   "id": "ba7f1d65",
   "metadata": {},
   "source": [
    "## Exercises on Snowflake data\n",
    "\n",
    "1. The table ```PDX_EXPERMINENTS.UR_DS_COURSE_MATERIAL.DAU_KPI_GAMES``` contains the daily ```DAU``` for a number of games between the date ```2025-05-01``` and ```2025-06-30```. The ```ACCOUNT_DAU``` is the ```DAU``` of players with a Paradox Account. \n",
    "- What was the total number of EU4 players between June 1 and the 15th of June, in each country (Country is given by the column `GEOLOCATION`). Order the descending. \n",
    "- How many daily active users had a Paradox account?\n",
    "\n",
    "2. The table ```PDX_EXPERIMENTS.UR_DS_COURSE_MATERIAL.VICTORIA3_VERIFICATION``` contains several columns for the period ```2025-05-01``` and ```2025-06-30``` for Victoria \n",
    "- What are the unique columns?\n",
    "- How many unique users can be suspected pirates?\n",
    "\n",
    "3. The table ```PDX_EXPERIMENTS.UR_DS_COURSE_MATERIAL.VICTORIA3_GAME_RULES``` contains information about which game rules were used by players of Victoria 3 between the date ```2025-05-01``` and ```2025-06-30```\n",
    "- What are the unique values of ```AI_BEHAVIOR```?\n",
    "- Create a table with columns ```NAME```, ```AI_BEHAVIOR``` and ```COUNT```, where count is the number of unique players of each ```AI_BEHAVIOR``` in each country. Sort the data alphabetically by ```NAME``` and descending by ```COUNT```.\n",
    "\n",
    "\n",
    "\n",
    "\n",
    "\n",
    "## Summary\n",
    "Today you learned how to:\n",
    "- Use aggregation functions like `COUNT`, `AVG`, `MIN`, `MAX`\n",
    "- Segment data with `GROUP BY`\n",
    "- Filter grouped results with `HAVING`\n",
    "\n",
    "Next session: **Sorting, Aliasing & Formatting Output**."
   ]
  },
  {
   "cell_type": "code",
   "execution_count": null,
   "id": "ecba3b75",
   "metadata": {},
   "outputs": [],
   "source": []
  }
 ],
 "metadata": {
  "kernelspec": {
   "display_name": "py311",
   "language": "python",
   "name": "python3"
  },
  "language_info": {
   "codemirror_mode": {
    "name": "ipython",
    "version": 3
   },
   "file_extension": ".py",
   "mimetype": "text/x-python",
   "name": "python",
   "nbconvert_exporter": "python",
   "pygments_lexer": "ipython3",
   "version": "3.11.8"
  }
 },
 "nbformat": 4,
 "nbformat_minor": 5
}
