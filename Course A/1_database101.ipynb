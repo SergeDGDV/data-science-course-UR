{
 "cells": [
  {
   "cell_type": "markdown",
   "id": "411a5bd5",
   "metadata": {},
   "source": [
    "# Database 101: Structure and elementary function in SQL\n"
   ]
  },
  {
   "cell_type": "markdown",
   "id": "ece32110",
   "metadata": {},
   "source": []
  }
 ],
 "metadata": {
  "language_info": {
   "name": "python"
  }
 },
 "nbformat": 4,
 "nbformat_minor": 5
}
