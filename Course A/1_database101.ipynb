{
 "cells": [
  {
   "cell_type": "markdown",
   "id": "411a5bd5",
   "metadata": {},
   "source": [
    "# Database 101: Structure and elementary function in SQL\n"
   ]
  },
  {
   "cell_type": "markdown",
   "id": "ece32110",
   "metadata": {},
   "source": [
    "## 📘 Introduction\n",
    "This session introduces SQL, the Structured Query Language, which is used to interact with relational databases. Understanding SQL is fundamental for data analysts and researchers to retrieve, filter, and explore datasets efficiently.\n"
   ]
  },
  {
   "cell_type": "markdown",
   "id": "4f882f9e",
   "metadata": {},
   "source": [
    "## What is SQL?\n",
    "SQL (Structured Query Language) is a standard language used to interact with relational databases. It allows you to:\n",
    "- Retrieve data from one or more tables\n",
    "- Filter, sort, and aggregate data\n",
    "- Insert, update, or delete records\n",
    "\n",
    "> SQL is declarative: you tell the database *what* you want, not *how* to get it.\n"
   ]
  },
  {
   "cell_type": "markdown",
   "id": "47e6cc05",
   "metadata": {},
   "source": [
    "## What is a Database?\n",
    "A **database** is a structured collection of data. A **relational database** organizes data into tables. Each **table** consists of:\n",
    "- **Rows**: individual records (also called tuples)\n",
    "- **Columns**: attributes of each record\n",
    "\n",
    "### Example Table: `reviews`\n",
    "| review_id | game_name | review_text        | rating | review_date |\n",
    "|-----------|-----------|--------------------|--------|-------------|\n",
    "| 1         | Game A    | Great experience!  | 5      | 2023-01-01  |\n",
    "| 2         | Game B    | Needs improvement  | 3      | 2023-02-10  |\n"
   ]
  },
  {
   "cell_type": "markdown",
   "id": "b59379b9",
   "metadata": {},
   "source": [
    "## Basic SQL Syntax: `SELECT`\n",
    "The `SELECT` statement is used to query data from a table.\n",
    "\n",
    "```sql\n",
    "SELECT column1, column2 FROM table_name;\n",
    "```\n",
    "\n",
    "### Example:\n",
    "```sql\n",
    "SELECT game_name, rating FROM reviews;\n",
    "```"
   ]
  },
  {
   "cell_type": "markdown",
   "id": "91576138",
   "metadata": {},
   "source": [
    "## Filtering Data: `WHERE`\n",
    "The `WHERE` clause filters rows based on conditions.\n",
    "\n",
    "```sql\n",
    "SELECT * FROM reviews WHERE rating >= 4;\n",
    "```\n",
    "\n",
    "You can use operators like:\n",
    "- `=` (equals)\n",
    "- `!=` or `<>` (not equals)\n",
    "- `<`, `<=`, `>`, `>=`\n",
    "- `LIKE` (pattern matching)\n",
    "\n",
    "\n",
    "## Preview Data: `LIMIT`\n",
    "The `LIMIT` clause restricts the number of rows returned.\n",
    "\n",
    "```sql\n",
    "SELECT * FROM reviews LIMIT 5;\n",
    "```\n",
    "\n",
    "Useful for quickly exploring a table without fetching everything.\n",
    "\n"
   ]
  },
  {
   "cell_type": "markdown",
   "id": "e0f16413",
   "metadata": {},
   "source": []
  }
 ],
 "metadata": {
  "language_info": {
   "name": "python"
  }
 },
 "nbformat": 4,
 "nbformat_minor": 5
}
