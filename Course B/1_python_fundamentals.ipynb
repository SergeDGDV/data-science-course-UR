{
 "cells": [
  {
   "cell_type": "markdown",
   "id": "47e46b84",
   "metadata": {},
   "source": [
    "# 1. Introduction\n",
    "\n",
    "## What is Python?\n",
    "Python is a **high-level, interpreted programming language** known for its readability and ease of use. Created by Guido van Rossum and released in 1991, Python emphasizes **clear syntax**, making it ideal for beginners as well as professionals.\n",
    "\n",
    "Python is widely used in:\n",
    "- Web development\n",
    "- Data science and analytics\n",
    "- Machine learning and artificial intelligence\n",
    "- Automation and scripting\n",
    "- Software development and testing\n",
    "\n",
    "## Why use Python?\n",
    "Python is popular because:\n",
    "- It has **clean, readable syntax**\n",
    "- Offers **extensive libraries** and community support\n",
    "- Suitable for **both beginners and experts**\n",
    "- Integrates easily with other languages and platforms\n",
    "- Excellent for **prototyping and testing ideas quickly**\n",
    "\n",
    "## Setting Up the Environment\n",
    "To get started, you need Python installed on your machine. There are two common methods:\n",
    "\n",
    "### Option 1: Install Python via Anaconda (Recommended)\n",
    "Anaconda is a distribution that includes Python, Jupyter Notebook, and many libraries used in data science.\n",
    "1. Go to [https://www.anaconda.com](https://www.anaconda.com)\n",
    "2. Download the appropriate version for your OS (Windows, macOS, or Linux)\n",
    "3. Follow the installation steps\n",
    "4. Open **Anaconda Navigator** and launch **Jupyter Notebook**\n",
    "\n",
    "### Option 2: Install Python and Jupyter via pip\n",
    "1. Download Python from [https://www.python.org/downloads](https://www.python.org/downloads)\n",
    "2. Open a terminal or command prompt and install Jupyter:\n",
    "```bash\n",
    "pip install notebook\n",
    "```\n",
    "3. Run Jupyter:\n",
    "```bash\n",
    "jupyter notebook\n",
    "```\n",
    "\n",
    "## How to Use Jupyter Notebook\n",
    "Jupyter Notebook allows you to write and run code in an interactive browser-based interface.\n",
    "\n",
    "- Cells can contain either **code** or **markdown** (text).\n",
    "- To run a cell, **click on it** and press **Shift + Enter**.\n",
    "- Use the `+` button in the toolbar to add new cells.\n",
    "- Choose the cell type (Code or Markdown) from the dropdown menu.\n",
    "\n",
    "Let’s begin with a simple code cell below:\n",
    "```python\n",
    "print(\"Hello, Python beginner!\")\n",
    "```\n",
    "\n",
    "Now press **Shift + Enter** to run it and see the output!\n"
   ]
  },
  {
   "cell_type": "markdown",
   "id": "05563876",
   "metadata": {},
   "source": []
  }
 ],
 "metadata": {
  "language_info": {
   "name": "python"
  }
 },
 "nbformat": 4,
 "nbformat_minor": 5
}
