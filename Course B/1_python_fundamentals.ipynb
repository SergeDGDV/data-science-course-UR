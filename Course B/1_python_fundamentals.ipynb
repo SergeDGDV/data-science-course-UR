{
 "cells": [
  {
   "cell_type": "markdown",
   "id": "47e46b84",
   "metadata": {},
   "source": [
    "# 1. Introduction\n",
    "\n",
    "## What is Python?\n",
    "Python is a **high-level, interpreted programming language** known for its readability and ease of use. Python emphasizes **clear syntax**, making it ideal for beginners as well as professionals.\n",
    "\n",
    "Python is widely used in:\n",
    "- Web development\n",
    "- Data science and analytics\n",
    "- Machine learning and artificial intelligence\n",
    "- Automation and scripting\n",
    "- Software development and testing\n",
    "\n",
    "## Why use Python?\n",
    "Python is popular because:\n",
    "- It has **clean, readable syntax**\n",
    "- Offers **extensive libraries** and community support\n",
    "- Suitable for **both beginners and experts**\n",
    "- Integrates easily with other languages and platforms\n",
    "- Excellent for **prototyping and testing ideas quickly**\n",
    "\n",
    "## Setting Up the Environment\n",
    "To get started, you need Python installed on your machine. There are two common methods:\n",
    "\n",
    "### Option 1: Install Python via Anaconda (Recommended)\n",
    "Anaconda is a distribution that includes Python, Jupyter Notebook, and many libraries used in data science.\n",
    "1. Go to [https://www.anaconda.com](https://www.anaconda.com)\n",
    "2. Download the appropriate version for your OS (Windows, macOS, or Linux)\n",
    "3. Follow the installation steps\n",
    "4. Open **Anaconda Navigator** and launch **Jupyter Notebook**\n",
    "\n",
    "### Option 2: Install Python and Jupyter via pip\n",
    "1. Download Python from [https://www.python.org/downloads](https://www.python.org/downloads)\n",
    "2. Open a terminal or command prompt and install Jupyter:\n",
    "```bash\n",
    "pip install notebook\n",
    "```\n",
    "3. Run Jupyter:\n",
    "```bash\n",
    "jupyter notebook\n",
    "```\n",
    "\n",
    "## How to Use Jupyter Notebook\n",
    "Jupyter Notebook allows you to write and run code in an interactive browser-based interface.\n",
    "\n",
    "- Cells can contain either **code** or **markdown** (text).\n",
    "- To run a cell, **click on it** and press **Shift + Enter**.\n",
    "- Use the `+` button in the toolbar to add new cells.\n",
    "- Choose the cell type (Code or Markdown) from the dropdown menu.\n",
    "\n",
    "Let’s begin with a simple code cell below:\n",
    "```python\n",
    "print(\"Hello, Python beginner!\")\n",
    "```\n",
    "\n",
    "Now press **Shift + Enter** to run it and see the output!\n"
   ]
  },
  {
   "cell_type": "markdown",
   "id": "05563876",
   "metadata": {},
   "source": [
    "\n",
    "# 2. Basic Syntax & Data Types\n",
    "\n",
    "## Variables\n",
    "Variables are used to store data. You can assign them using the equals sign `=`:\n",
    "```python\n",
    "name = \"Alice\"\n",
    "age = 30\n",
    "is_student = True\n",
    "```\n",
    "\n",
    "### Naming Conventions:\n",
    "- Use lowercase letters and underscores (e.g., `user_name`)\n",
    "- Avoid starting with numbers\n",
    "- Be descriptive with names (e.g., `temperature_celsius`, not `tc`)\n",
    "\n",
    "## Basic Data Types\n",
    "- `int` – Integer: `5`\n",
    "- `float` – Decimal number: `3.14`\n",
    "- `str` – String: `'Hello'`\n",
    "- `bool` – Boolean: `True` or `False`\n",
    "\n",
    "## Type Conversion\n",
    "You can convert between data types using built-in functions:\n",
    "\n"
   ]
  },
  {
   "cell_type": "code",
   "execution_count": null,
   "id": "78a95c64",
   "metadata": {},
   "outputs": [
    {
     "data": {
      "text/plain": [
       "5"
      ]
     },
     "execution_count": 3,
     "metadata": {},
     "output_type": "execute_result"
    }
   ],
   "source": [
    "int(\"5\")      # Converts string to integer"
   ]
  },
  {
   "cell_type": "code",
   "execution_count": null,
   "id": "4fc4aa97",
   "metadata": {},
   "outputs": [
    {
     "data": {
      "text/plain": [
       "3.0"
      ]
     },
     "execution_count": 4,
     "metadata": {},
     "output_type": "execute_result"
    }
   ],
   "source": [
    "float(3)      # Converts integer to float"
   ]
  },
  {
   "cell_type": "code",
   "execution_count": 5,
   "id": "dda27bed",
   "metadata": {},
   "outputs": [
    {
     "data": {
      "text/plain": [
       "'10'"
      ]
     },
     "execution_count": 5,
     "metadata": {},
     "output_type": "execute_result"
    }
   ],
   "source": [
    "str(10)       # Converts number to string"
   ]
  },
  {
   "cell_type": "markdown",
   "id": "347d83f1",
   "metadata": {},
   "source": [
    "## 🔹 Print Statements & Comments\n",
    "Use `print()` to display output:\n",
    "```python\n",
    "print(\"Hello, world!\")\n",
    "```\n",
    "\n",
    "Use `#` for single-line comments:\n",
    "```python\n",
    "# This is a comment\n",
    "```\n",
    "\n",
    "Comments in code are a very useful for explaining what the code is doing. You may very well know what you are doing as you write the code, but chances are that you will wonder about what you meant to do a year from now. It is also helpful for colleagues that will be using your code. \n",
    "\n",
    "<div style=\"text-align:center\">\n",
    "<img src=\"/Users/sergedegossondevarennes/Documents/repositories/data-science-course-UR/Course B/resources_course_b/godknowscode.png\" alt= \"Joins\" width=\"600\">\n",
    "</div>\n"
   ]
  },
  {
   "cell_type": "code",
   "execution_count": 6,
   "id": "c6279808",
   "metadata": {},
   "outputs": [
    {
     "name": "stdout",
     "output_type": "stream",
     "text": [
      "THIS IS HOW IT LOOKS LIKE ONCE PRINTED\n"
     ]
    }
   ],
   "source": [
    "print('THIS IS HOW IT LOOKS LIKE ONCE PRINTED')"
   ]
  },
  {
   "cell_type": "markdown",
   "id": "d1bbdf4a",
   "metadata": {},
   "source": [
    "# 3. Operators\n",
    "\n",
    "## Arithmetic Operators\n",
    "```python\n",
    "x = 10\n",
    "y = 3\n",
    "print(x + y)  # Addition\n",
    "print(x - y)  # Subtraction\n",
    "print(x * y)  # Multiplication\n",
    "print(x / y)  # Division\n",
    "print(x ** y) # Exponentiation\n",
    "print(x % y)  # Modulo (remainder)\n",
    "```\n",
    "\n",
    "## Comparison Operators\n",
    "```python\n",
    "print(x == y)  # Equal\n",
    "print(x != y)  # Not equal\n",
    "print(x > y)   # Greater than\n",
    "print(x < y)   # Less than\n",
    "print(x >= y)  # Greater than or equal to\n",
    "print(x <= y)  # Less than or equal to\n",
    "```\n",
    "\n",
    "## Logical Operators\n",
    "```python\n",
    "print(True and False)  # Logical AND\n",
    "print(True or False)   # Logical OR\n",
    "print(not True)        # Logical NOT\n",
    "```"
   ]
  },
  {
   "cell_type": "markdown",
   "id": "55902fe7",
   "metadata": {},
   "source": [
    "# 4. Control Flow\n",
    "\n",
    "## Conditional Statements\n",
    "```python\n",
    "age = 18\n",
    "if age < 18:\n",
    "    print(\"Minor\")\n",
    "elif age == 18:\n",
    "    print(\"Just became an adult\")\n",
    "else:\n",
    "    print(\"Adult\")\n",
    "```\n",
    "\n",
    "## Loops\n",
    "### for Loop:\n",
    "```python\n",
    "for i in range(5):\n",
    "    print(i)\n",
    "```\n",
    "\n",
    "### while Loop:\n",
    "```python\n",
    "count = 0\n",
    "while count < 5:\n",
    "    print(count)\n",
    "    count += 1\n",
    "```\n",
    "\n",
    "### Control Statements:\n",
    "- `break` – Exit the loop early\n",
    "- `continue` – Skip to next iteration\n",
    "- `pass` – Placeholder for future code"
   ]
  },
  {
   "cell_type": "code",
   "execution_count": 12,
   "id": "e578bb54",
   "metadata": {},
   "outputs": [
    {
     "name": "stdout",
     "output_type": "stream",
     "text": [
      "Just became an adult\n"
     ]
    }
   ],
   "source": [
    "age = 18\n",
    "if age < 18:\n",
    "    print(\"Minor\")\n",
    "elif age == 18:\n",
    "    print(\"Just became an adult\")\n",
    "else:\n",
    "    print(\"Adult\")"
   ]
  },
  {
   "cell_type": "markdown",
   "id": "5d2188e5",
   "metadata": {},
   "source": [
    "# 6. Functions\n",
    "\n",
    "Functions help you organize and reuse code.\n",
    "\n",
    "## Defining Functions\n",
    "Use `def` to define a function:\n",
    "```python\n",
    "def greet():\n",
    "    print(\"Hello!\")\n",
    "\n",
    "greet()\n",
    "```\n",
    "\n",
    "## Parameters and Return Values\n",
    "You can pass inputs and return outputs:\n",
    "```python\n",
    "def add(a, b):\n",
    "    return a + b\n",
    "\n",
    "result = add(3, 4)\n",
    "print(result)\n",
    "```\n",
    "\n",
    "Here is an example that will be useful, the Levenshtein distance between strings (or words). \n",
    "The Levenshtein distance is a measure of how different two strings are. Specifically, it counts the minimum number of single-character edits needed to turn one string into the other. The allowed edits are:\n",
    "\n",
    "* Insertion (e.g., adding a letter)\n",
    "* Deletion (e.g., removing a letter)\n",
    "* Substitution (e.g., changing one letter to another)\n",
    "\n",
    "### Simple Example\n",
    "Compare these two words: \"kitten\" and \"sitting\". To change \"kitten\" into \"sitting\":\n",
    "\n",
    "* Substitute 'k' → 's' → \"sitten\" (1 edit)\n",
    "* Substitute 'e' → 'i' → \"sittin\" (2 edits)\n",
    "* Insert 'g' at the end → \"sitting\" (3 edits)\n",
    "\n",
    "So the Levenshtein distance = 3."
   ]
  },
  {
   "cell_type": "code",
   "execution_count": 17,
   "id": "5caed088",
   "metadata": {},
   "outputs": [
    {
     "name": "stdout",
     "output_type": "stream",
     "text": [
      "3\n"
     ]
    }
   ],
   "source": [
    "def levenshtein_distance(s1: str, s2: str) -> int:\n",
    "    len_s1, len_s2 = len(s1), len(s2)\n",
    "    \n",
    "    # Initialize a matrix of size (len_s1+1) x (len_s2+1)\n",
    "    dp = [[0] * (len_s2 + 1) for _ in range(len_s1 + 1)]\n",
    "\n",
    "    # Fill the first row and column with edit distances from the empty string\n",
    "    for i in range(len_s1 + 1):\n",
    "        dp[i][0] = i\n",
    "    for j in range(len_s2 + 1):\n",
    "        dp[0][j] = j\n",
    "\n",
    "    # Compute distances\n",
    "    for i in range(1, len_s1 + 1):\n",
    "        for j in range(1, len_s2 + 1):\n",
    "            if s1[i - 1] == s2[j - 1]:\n",
    "                cost = 0\n",
    "            else:\n",
    "                cost = 1\n",
    "            dp[i][j] = min(\n",
    "                dp[i - 1][j] + 1,      # Deletion\n",
    "                dp[i][j - 1] + 1,      # Insertion\n",
    "                dp[i - 1][j - 1] + cost  # Substitution\n",
    "            )\n",
    "\n",
    "    return dp[len_s1][len_s2]\n",
    "\n",
    "print(levenshtein_distance(\"sitting\", \"kitten\"))  # Output: 3\n",
    "\n"
   ]
  },
  {
   "cell_type": "code",
   "execution_count": null,
   "id": "f3079e89",
   "metadata": {},
   "outputs": [],
   "source": []
  }
 ],
 "metadata": {
  "kernelspec": {
   "display_name": "py311",
   "language": "python",
   "name": "python3"
  },
  "language_info": {
   "codemirror_mode": {
    "name": "ipython",
    "version": 3
   },
   "file_extension": ".py",
   "mimetype": "text/x-python",
   "name": "python",
   "nbconvert_exporter": "python",
   "pygments_lexer": "ipython3",
   "version": "3.11.8"
  }
 },
 "nbformat": 4,
 "nbformat_minor": 5
}
