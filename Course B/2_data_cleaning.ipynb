{
 "cells": [
  {
   "cell_type": "markdown",
   "id": "5e79e472",
   "metadata": {},
   "source": [
    "# Data Cleaning\n",
    "\n",
    "## Introduction\n",
    "\n",
    "\"Shit in, shit out!\". We've all heard this sentence about analysis done with data that hasn't been cleaned. A huge part of an analyst's work (and even more so, of a data engineer) is to make sure that the data being used is clean. Now, what does \"clean\" mean? Well, it can mean a lot of things. For instance, poorly recorded data can result in a column that is mean to only contain integers also contains strings. In those cases, you may need to delete all rows in which that column contains strings. But this is risky as you may be deleting valuable data from other columns. So, in some cases, cleaning may be about replacing unintelligible data with a specific value (this process is called imputation) or ```null```. It's all from case to case. \n",
    "\n",
    "Before we dive into the cleasing process, we need to introduce a couple of valuable packages in ```python```, namely ```numpy``` and ```pandas```. ```pandas``` is one of the most used packages (and there are different opinions about it, but for most purposes it does an excellent job in handling data, and compared to many other packages it is rather easy to use). "
   ]
  },
  {
   "cell_type": "markdown",
   "id": "210e1eda",
   "metadata": {},
   "source": []
  }
 ],
 "metadata": {
  "language_info": {
   "name": "python"
  }
 },
 "nbformat": 4,
 "nbformat_minor": 5
}
